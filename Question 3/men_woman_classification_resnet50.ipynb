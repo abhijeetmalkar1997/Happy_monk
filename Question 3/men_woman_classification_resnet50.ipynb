{
  "cells": [
    {
      "cell_type": "code",
      "execution_count": 10,
      "metadata": {
        "id": "f6JUS3C0aoCQ"
      },
      "outputs": [],
      "source": [
        "from tensorflow.keras.applications.resnet50 import ResNet50\n",
        "from tensorflow.keras.models import Sequential\n",
        "from tensorflow.keras.layers import Dense, Flatten, Dropout\n",
        "from tensorflow.keras.preprocessing.image import ImageDataGenerator"
      ]
    },
    {
      "cell_type": "code",
      "execution_count": 11,
      "metadata": {
        "id": "PKMSqAZpbGGZ"
      },
      "outputs": [],
      "source": [
        "num_classes = 2"
      ]
    },
    {
      "cell_type": "code",
      "execution_count": 66,
      "metadata": {
        "id": "QmmRsWWv889y"
      },
      "outputs": [],
      "source": [
        "from tensorflow.keras.optimizers import Adam"
      ]
    },
    {
      "cell_type": "code",
      "execution_count": 74,
      "metadata": {
        "id": "_eI0oD3PbI1L"
      },
      "outputs": [],
      "source": [
        "# load the ResNet50 model and add a few layers on top\n",
        "model = Sequential()\n",
        "model.add(ResNet50(include_top=False, pooling='avg', weights='imagenet'))\n",
        "model.add(Dense(512, activation='relu'))\n",
        "model.add(Dropout(0.5))\n",
        "model.add(Dense(num_classes, activation='softmax'))"
      ]
    },
    {
      "cell_type": "code",
      "execution_count": 75,
      "metadata": {
        "id": "tULvBc8AbMi_"
      },
      "outputs": [],
      "source": [
        "for layer in model.layers[0].layers:\n",
        "    layer.trainable = False"
      ]
    },
    {
      "cell_type": "code",
      "execution_count": 76,
      "metadata": {
        "id": "fkO1VjrrbTIA"
      },
      "outputs": [],
      "source": [
        "# compile the model\n",
        "model.compile(optimizer=Adam(lr = 0.001), loss='categorical_crossentropy', metrics=['accuracy'])"
      ]
    },
    {
      "cell_type": "code",
      "execution_count": 15,
      "metadata": {
        "id": "_n5nBnglnI33"
      },
      "outputs": [],
      "source": [
        "# define the data generators for training, validation, and test sets\n",
        "train_datagen = ImageDataGenerator(rescale=1./255,\n",
        "                                   shear_range=0.2,\n",
        "                                   zoom_range=0.2,\n",
        "                                   horizontal_flip=True)"
      ]
    },
    {
      "cell_type": "code",
      "execution_count": 16,
      "metadata": {
        "id": "J3LYj9rvnOZu"
      },
      "outputs": [],
      "source": [
        "validation_datagen = ImageDataGenerator(rescale=1./255)"
      ]
    },
    {
      "cell_type": "code",
      "execution_count": 58,
      "metadata": {
        "id": "OfZzLLZenSIc"
      },
      "outputs": [],
      "source": [
        "train_dir = \"/content/drive/MyDrive/men_women_classification/traindata/traindata\"\n",
        "val_dir = \"/content/drive/MyDrive/men_women_classification/testdata/testdata\""
      ]
    },
    {
      "cell_type": "code",
      "execution_count": 59,
      "metadata": {
        "colab": {
          "base_uri": "https://localhost:8080/"
        },
        "id": "msRKErRUnbGw",
        "outputId": "eaf45363-d252-474b-e947-484044f47e70"
      },
      "outputs": [
        {
          "name": "stdout",
          "output_type": "stream",
          "text": [
            "Found 1000 images belonging to 2 classes.\n"
          ]
        }
      ],
      "source": [
        "# create the generators for the training, validation, and test sets\n",
        "train_generator = train_datagen.flow_from_directory(train_dir,\n",
        "                                                    target_size=(224, 224),\n",
        "                                                    batch_size=32,\n",
        "                                                    class_mode='categorical')"
      ]
    },
    {
      "cell_type": "code",
      "execution_count": 60,
      "metadata": {
        "colab": {
          "base_uri": "https://localhost:8080/"
        },
        "id": "RdssK7JlndsZ",
        "outputId": "d999ad95-325e-41cc-80ea-f71496d0b020"
      },
      "outputs": [
        {
          "name": "stdout",
          "output_type": "stream",
          "text": [
            "Found 260 images belonging to 2 classes.\n"
          ]
        }
      ],
      "source": [
        "validation_generator = validation_datagen.flow_from_directory(val_dir,\n",
        "                                                              target_size=(224, 224),\n",
        "                                                              batch_size=32,\n",
        "                                                              class_mode='categorical')"
      ]
    },
    {
      "cell_type": "code",
      "execution_count": 20,
      "metadata": {
        "colab": {
          "base_uri": "https://localhost:8080/"
        },
        "id": "3QIkc9g9npRM",
        "outputId": "bd0bcc2d-8a84-41da-e4fe-5560a69c5369"
      },
      "outputs": [
        {
          "name": "stderr",
          "output_type": "stream",
          "text": [
            "<ipython-input-20-6f2983b35166>:2: UserWarning: `Model.fit_generator` is deprecated and will be removed in a future version. Please use `Model.fit`, which supports generators.\n",
            "  history = model.fit_generator(train_generator,\n"
          ]
        },
        {
          "name": "stdout",
          "output_type": "stream",
          "text": [
            "Epoch 1/10\n",
            "91/91 [==============================] - 684s 7s/step - loss: 0.7041 - accuracy: 0.6109 - val_loss: 0.6779 - val_accuracy: 0.5647\n",
            "Epoch 2/10\n",
            "91/91 [==============================] - 109s 1s/step - loss: 0.6524 - accuracy: 0.6416 - val_loss: 0.6182 - val_accuracy: 0.6872\n",
            "Epoch 3/10\n",
            "91/91 [==============================] - 111s 1s/step - loss: 0.6423 - accuracy: 0.6579 - val_loss: 0.6089 - val_accuracy: 0.6857\n",
            "Epoch 4/10\n",
            "91/91 [==============================] - 108s 1s/step - loss: 0.6409 - accuracy: 0.6582 - val_loss: 0.6059 - val_accuracy: 0.6857\n",
            "Epoch 5/10\n",
            "91/91 [==============================] - 111s 1s/step - loss: 0.6396 - accuracy: 0.6576 - val_loss: 0.6192 - val_accuracy: 0.6872\n",
            "Epoch 6/10\n",
            "91/91 [==============================] - 109s 1s/step - loss: 0.6345 - accuracy: 0.6576 - val_loss: 0.5998 - val_accuracy: 0.6865\n",
            "Epoch 7/10\n",
            "91/91 [==============================] - 111s 1s/step - loss: 0.6330 - accuracy: 0.6576 - val_loss: 0.5973 - val_accuracy: 0.6865\n",
            "Epoch 8/10\n",
            "91/91 [==============================] - 124s 1s/step - loss: 0.6339 - accuracy: 0.6589 - val_loss: 0.5993 - val_accuracy: 0.6880\n",
            "Epoch 9/10\n",
            "91/91 [==============================] - 139s 2s/step - loss: 0.6360 - accuracy: 0.6565 - val_loss: 0.5936 - val_accuracy: 0.6902\n",
            "Epoch 10/10\n",
            "91/91 [==============================] - 110s 1s/step - loss: 0.6282 - accuracy: 0.6586 - val_loss: 0.6118 - val_accuracy: 0.6992\n"
          ]
        }
      ],
      "source": [
        "# train the model\n",
        "history = model.fit_generator(train_generator,\n",
        "                              epochs=10,\n",
        "                              validation_data=validation_generator,\n",
        "                              steps_per_epoch=len(train_generator),\n",
        "                              validation_steps=len(validation_generator))"
      ]
    },
    {
      "cell_type": "code",
      "execution_count": 26,
      "metadata": {
        "colab": {
          "base_uri": "https://localhost:8080/",
          "height": 483
        },
        "id": "uVgnDJpun7Sx",
        "outputId": "ddd3aa3e-f327-47b6-b6f1-0008f751a25f"
      },
      "outputs": [
        {
          "data": {
            "image/png": "[encoded data removed]",
            "text/plain": [
              "<Figure size 720x576 with 1 Axes>"
            ]
          },
          "metadata": {
            "needs_background": "light"
          },
          "output_type": "display_data"
        }
      ],
      "source": [
        "import matplotlib.pyplot as plt\n",
        "plt.figure(figsize =(10,8))\n",
        "plt.plot(history.history['loss'],label= 'loss')\n",
        "plt.plot(history.history['val_loss'], label = 'validation_loss')\n",
        "plt.plot(history.history['accuracy'], label = 'accuracy')\n",
        "plt.plot(history.history['val_accuracy'], label = 'validation_accuracy')\n",
        "plt.legend()\n",
        "plt.show()"
      ]
    },
    {
      "cell_type": "code",
      "execution_count": 55,
      "metadata": {
        "id": "wDDigdv-ufq2"
      },
      "outputs": [],
      "source": [
        "import os\n",
        "man_lst = []\n",
        "woman_lst = []\n",
        "for files in os.listdir(\"/content/drive/MyDrive/men_women_classification/testdata/testdata/men\")[:130]:\n",
        "    path = os.path.join(\"/content/drive/MyDrive/men_women_classification/testdata/testdata/men\", files)\n",
        "    man_lst.append(path)\n",
        "for files in os.listdir(\"/content/drive/MyDrive/men_women_classification/testdata/testdata/women\")[:131]:\n",
        "    path = os.path.join(\"/content/drive/MyDrive/men_women_classification/testdata/testdata/women\", files)\n",
        "    woman_lst.append(path)"
      ]
    },
    {
      "cell_type": "code",
      "execution_count": 52,
      "metadata": {
        "id": "UOsEigMz16QK"
      },
      "outputs": [],
      "source": [
        "os.makedirs(\"test_data/men\")\n",
        "os.makedirs(\"test_data/women\")"
      ]
    },
    {
      "cell_type": "code",
      "execution_count": 53,
      "metadata": {
        "colab": {
          "base_uri": "https://localhost:8080/",
          "height": 36
        },
        "id": "BfmL74nm3JqU",
        "outputId": "e75909ca-5309-44d8-c96b-1f04a5feb136"
      },
      "outputs": [
        {
          "data": {
            "application/vnd.google.colaboratory.intrinsic+json": {
              "type": "string"
            },
            "text/plain": [
              "'/content/drive/MyDrive/men_women_classification/testdata/testdata/men/00000006.jpg'"
            ]
          },
          "execution_count": 53,
          "metadata": {},
          "output_type": "execute_result"
        }
      ],
      "source": [
        "man_lst[5]"
      ]
    },
    {
      "cell_type": "code",
      "execution_count": 57,
      "metadata": {
        "id": "QjQVr_bx1OsP"
      },
      "outputs": [],
      "source": [
        "import cv2\n",
        "for i in man_lst:\n",
        "  try:\n",
        "    file_name = os.path.join(\"/content/test_data/men\",i.split('/')[-1])\n",
        "    image = cv2.imread(i)\n",
        "    cv2.imwrite(file_name,image)\n",
        "  except:\n",
        "    print(i)"
      ]
    },
    {
      "cell_type": "markdown",
      "metadata": {
        "id": "kpkwCbP-7Re_"
      },
      "source": [
        "Not augemented"
      ]
    },
    {
      "cell_type": "code",
      "execution_count": 61,
      "metadata": {
        "id": "AcO9TH2x5BN9"
      },
      "outputs": [],
      "source": [
        "# define the data generators for training, validation, and test sets\n",
        "train_datagen = ImageDataGenerator(rescale=1./255)\n",
        "validation_datagen = ImageDataGenerator(rescale=1./255)\n",
        "train_dir = \"/content/train_data\"\n",
        "val_dir = \"/content/test_data\"\n"
      ]
    },
    {
      "cell_type": "code",
      "execution_count": 62,
      "metadata": {
        "colab": {
          "base_uri": "https://localhost:8080/"
        },
        "id": "maDmsHz57uoa",
        "outputId": "5f17e6ae-efb8-4b22-f981-97168c448408"
      },
      "outputs": [
        {
          "name": "stdout",
          "output_type": "stream",
          "text": [
            "Found 1000 images belonging to 2 classes.\n",
            "Found 260 images belonging to 2 classes.\n"
          ]
        }
      ],
      "source": [
        "# create the generators for the training, validation, and test sets\n",
        "train_generator = train_datagen.flow_from_directory(train_dir,\n",
        "                                                    target_size=(224, 224),\n",
        "                                                    batch_size=32,\n",
        "                                                    class_mode='categorical')\n",
        "# create the generators for the training, validation, and test sets\n",
        "val_generator = validation_datagen.flow_from_directory(val_dir,\n",
        "                                                    target_size=(224, 224),\n",
        "                                                    batch_size=32,\n",
        "                                                    class_mode='categorical')"
      ]
    },
    {
      "cell_type": "code",
      "execution_count": 77,
      "metadata": {
        "colab": {
          "base_uri": "https://localhost:8080/"
        },
        "id": "y9Jij2KO74L_",
        "outputId": "1a39f694-4ea7-4c9d-9af7-9a683a4295a0"
      },
      "outputs": [
        {
          "name": "stderr",
          "output_type": "stream",
          "text": [
            "<ipython-input-77-6f2983b35166>:2: UserWarning: `Model.fit_generator` is deprecated and will be removed in a future version. Please use `Model.fit`, which supports generators.\n",
            "  history = model.fit_generator(train_generator,\n"
          ]
        },
        {
          "name": "stdout",
          "output_type": "stream",
          "text": [
            "Epoch 1/10\n",
            "32/32 [==============================] - 27s 690ms/step - loss: 0.9639 - accuracy: 0.5140 - val_loss: 0.6997 - val_accuracy: 0.5038\n",
            "Epoch 2/10\n",
            "32/32 [==============================] - 20s 625ms/step - loss: 0.7480 - accuracy: 0.5080 - val_loss: 0.6586 - val_accuracy: 0.5731\n",
            "Epoch 3/10\n",
            "32/32 [==============================] - 20s 636ms/step - loss: 0.6993 - accuracy: 0.5630 - val_loss: 0.6605 - val_accuracy: 0.5731\n",
            "Epoch 4/10\n",
            "32/32 [==============================] - 20s 627ms/step - loss: 0.6904 - accuracy: 0.5640 - val_loss: 0.6546 - val_accuracy: 0.6538\n",
            "Epoch 5/10\n",
            "32/32 [==============================] - 20s 607ms/step - loss: 0.6800 - accuracy: 0.5690 - val_loss: 0.6584 - val_accuracy: 0.6269\n",
            "Epoch 6/10\n",
            "32/32 [==============================] - 20s 619ms/step - loss: 0.6625 - accuracy: 0.5980 - val_loss: 0.6488 - val_accuracy: 0.6462\n",
            "Epoch 7/10\n",
            "32/32 [==============================] - 20s 627ms/step - loss: 0.6634 - accuracy: 0.5980 - val_loss: 0.6426 - val_accuracy: 0.6577\n",
            "Epoch 8/10\n",
            "32/32 [==============================] - 20s 632ms/step - loss: 0.6765 - accuracy: 0.5630 - val_loss: 0.7264 - val_accuracy: 0.5038\n",
            "Epoch 9/10\n",
            "32/32 [==============================] - 20s 628ms/step - loss: 0.6895 - accuracy: 0.5630 - val_loss: 0.6672 - val_accuracy: 0.5346\n",
            "Epoch 10/10\n",
            "32/32 [==============================] - 20s 630ms/step - loss: 0.6676 - accuracy: 0.6000 - val_loss: 0.6445 - val_accuracy: 0.6692\n"
          ]
        }
      ],
      "source": [
        "# train the model\n",
        "history = model.fit_generator(train_generator,\n",
        "                              epochs=10,\n",
        "                              validation_data=validation_generator,\n",
        "                              steps_per_epoch=len(train_generator),\n",
        "                              validation_steps=len(validation_generator))"
      ]
    },
    {
      "cell_type": "code",
      "execution_count": 79,
      "metadata": {
        "colab": {
          "base_uri": "https://localhost:8080/",
          "height": 483
        },
        "id": "QpG4PXSX8Eij",
        "outputId": "44d3760e-c8c5-4495-ec45-012900997f19"
      },
      "outputs": [
        {
          "data": {
            "image/png": "[encoded data removed]",
            "text/plain": [
              "<Figure size 720x576 with 1 Axes>"
            ]
          },
          "metadata": {
            "needs_background": "light"
          },
          "output_type": "display_data"
        }
      ],
      "source": [
        "import matplotlib.pyplot as plt\n",
        "plt.figure(figsize =(10,8))\n",
        "plt.plot(history.history['loss'],label= 'loss')\n",
        "plt.plot(history.history['val_loss'], label = 'validation_loss')\n",
        "plt.plot(history.history['accuracy'], label = 'accuracy')\n",
        "plt.plot(history.history['val_accuracy'], label = 'validation_accuracy')\n",
        "plt.legend()\n",
        "plt.show()"
      ]
    },
    {
      "cell_type": "code",
      "execution_count": 88,
      "metadata": {
        "colab": {
          "base_uri": "https://localhost:8080/"
        },
        "id": "miRssd0CAwOT",
        "outputId": "bb5fe278-693f-474c-b2ef-bc4faa82771d"
      },
      "outputs": [
        {
          "name": "stdout",
          "output_type": "stream",
          "text": [
            "Looking in indexes: https://pypi.org/simple, https://us-python.pkg.dev/colab-wheels/public/simple/\n",
            "Collecting Augmentor\n",
            "  Downloading Augmentor-0.2.10-py2.py3-none-any.whl (38 kB)\n",
            "Requirement already satisfied: tqdm>=4.9.0 in /usr/local/lib/python3.8/dist-packages (from Augmentor) (4.64.1)\n",
            "Requirement already satisfied: Pillow>=5.2.0 in /usr/local/lib/python3.8/dist-packages (from Augmentor) (7.1.2)\n",
            "Requirement already satisfied: numpy>=1.11.0 in /usr/local/lib/python3.8/dist-packages (from Augmentor) (1.21.6)\n",
            "Requirement already satisfied: future>=0.16.0 in /usr/local/lib/python3.8/dist-packages (from Augmentor) (0.16.0)\n",
            "Installing collected packages: Augmentor\n",
            "Successfully installed Augmentor-0.2.10\n"
          ]
        }
      ],
      "source": [
        "!pip install Augmentor"
      ]
    },
    {
      "cell_type": "code",
      "execution_count": 89,
      "metadata": {
        "id": "fKXMqebJDgAx"
      },
      "outputs": [],
      "source": [
        "import Augmentor"
      ]
    },
    {
      "cell_type": "code",
      "execution_count": 90,
      "metadata": {
        "colab": {
          "base_uri": "https://localhost:8080/"
        },
        "id": "Z9H9FA4lDisW",
        "outputId": "329ca171-ead2-4fac-82f5-62317f761a03"
      },
      "outputs": [
        {
          "name": "stdout",
          "output_type": "stream",
          "text": [
            "Initialised with 1000 image(s) found.\n",
            "Output directory set to /content/train_data/output."
          ]
        }
      ],
      "source": [
        "p = Augmentor.Pipeline(\"/content/train_data\")"
      ]
    },
    {
      "cell_type": "code",
      "execution_count": null,
      "metadata": {
        "id": "YJbInrKoDrVi"
      },
      "outputs": [],
      "source": [
        "p."
      ]
    }
  ],
  "metadata": {
    "accelerator": "GPU",
    "colab": {
      "provenance": []
    },
    "gpuClass": "standard",
    "kernelspec": {
      "display_name": "Python 3",
      "name": "python3"
    },
    "language_info": {
      "name": "python"
    }
  },
  "nbformat": 4,
  "nbformat_minor": 0
}
